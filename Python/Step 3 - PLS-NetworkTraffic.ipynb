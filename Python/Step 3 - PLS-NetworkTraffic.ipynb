{
 "cells": [
  {
   "cell_type": "code",
   "execution_count": 1,
   "metadata": {
    "collapsed": true
   },
   "outputs": [],
   "source": [
    "%matplotlib inline\n",
    "from sklearn.decomposition import PCA as sklearnPCA\n",
    "from sklearn.preprocessing import StandardScaler\n",
    "import matplotlib.pyplot as plt\n",
    "import numpy as np\n",
    "import pandas as pd\n",
    "from scipy.stats import f\n",
    "from matplotlib.patches import Ellipse"
   ]
  },
  {
   "cell_type": "code",
   "execution_count": 2,
   "metadata": {
    "collapsed": true
   },
   "outputs": [],
   "source": [
    "# Load the data\n",
    "#osx = pd.read_csv('/Users/csstnns/Downloads/CSV/data/PCA/ISCX_Testing_Osx_trojan.csv')\n",
    "#rbot = pd.read_csv('/Users/csstnns/Downloads/CSV/data/PCA/ISCX_Testing_RBot.csv')\n",
    "#smoke = pd.read_csv('/Users/csstnns/Downloads/CSV/data/PCA/ISCX_Testing_Smoke_bot.csv')\n",
    "#sogou = pd.read_csv('/Users/csstnns/Downloads/CSV/data/PCA/ISCX_Testing_Sogou.csv')\n",
    "TBot = pd.read_csv('/Users/csstnns/Downloads/CSV/data/PCA2/ISCX_Testing_TBot.csv')\n",
    "ZeroAccess = pd.read_csv('/Users/csstnns/Downloads/CSV/data/PCA2/ISCX_Testing_Zero_access.csv')\n",
    "Zeus = pd.read_csv('/Users/csstnns/Downloads/CSV/data/PCA2/ISCX_Testing_Zeus.csv')\n"
   ]
  },
  {
   "cell_type": "code",
   "execution_count": 3,
   "metadata": {
    "collapsed": true
   },
   "outputs": [],
   "source": [
    "#data = pd.concat([osx, rbot,smoke,sogou])\n",
    "data = pd.concat([TBot, ZeroAccess,Zeus])"
   ]
  },
  {
   "cell_type": "code",
   "execution_count": 4,
   "metadata": {},
   "outputs": [
    {
     "data": {
      "text/html": [
       "<div>\n",
       "<style scoped>\n",
       "    .dataframe tbody tr th:only-of-type {\n",
       "        vertical-align: middle;\n",
       "    }\n",
       "\n",
       "    .dataframe tbody tr th {\n",
       "        vertical-align: top;\n",
       "    }\n",
       "\n",
       "    .dataframe thead th {\n",
       "        text-align: right;\n",
       "    }\n",
       "</style>\n",
       "<table border=\"1\" class=\"dataframe\">\n",
       "  <thead>\n",
       "    <tr style=\"text-align: right;\">\n",
       "      <th></th>\n",
       "      <th>Source Port</th>\n",
       "      <th>Destination Port</th>\n",
       "      <th>Protocol</th>\n",
       "      <th>Flow Duration</th>\n",
       "      <th>Flow Bytes/s</th>\n",
       "      <th>Flow Packets/s</th>\n",
       "      <th>Flow IAT Mean</th>\n",
       "      <th>Flow IAT Std</th>\n",
       "      <th>Flow IAT Max</th>\n",
       "      <th>Flow IAT Min</th>\n",
       "      <th>...</th>\n",
       "      <th>Bwd IAT Min</th>\n",
       "      <th>Active Mean</th>\n",
       "      <th>Active Std</th>\n",
       "      <th>Active Max</th>\n",
       "      <th>Active Min</th>\n",
       "      <th>Idle Mean</th>\n",
       "      <th>Idle Std</th>\n",
       "      <th>Idle Max</th>\n",
       "      <th>Idle Min</th>\n",
       "      <th>BotNet_Label</th>\n",
       "    </tr>\n",
       "  </thead>\n",
       "  <tbody>\n",
       "    <tr>\n",
       "      <th>0</th>\n",
       "      <td>1079</td>\n",
       "      <td>80</td>\n",
       "      <td>6</td>\n",
       "      <td>48383</td>\n",
       "      <td>6799.909059</td>\n",
       "      <td>124.010500</td>\n",
       "      <td>9676.6</td>\n",
       "      <td>12938.362137</td>\n",
       "      <td>28388.0</td>\n",
       "      <td>30.0</td>\n",
       "      <td>...</td>\n",
       "      <td>1853.0</td>\n",
       "      <td>0.0</td>\n",
       "      <td>0.0</td>\n",
       "      <td>0.0</td>\n",
       "      <td>0.0</td>\n",
       "      <td>0.0</td>\n",
       "      <td>0.0</td>\n",
       "      <td>0.0</td>\n",
       "      <td>0.0</td>\n",
       "      <td>TBot</td>\n",
       "    </tr>\n",
       "    <tr>\n",
       "      <th>1</th>\n",
       "      <td>1079</td>\n",
       "      <td>80</td>\n",
       "      <td>6</td>\n",
       "      <td>216</td>\n",
       "      <td>0.000000</td>\n",
       "      <td>9259.259259</td>\n",
       "      <td>216.0</td>\n",
       "      <td>0.000000</td>\n",
       "      <td>216.0</td>\n",
       "      <td>216.0</td>\n",
       "      <td>...</td>\n",
       "      <td>0.0</td>\n",
       "      <td>0.0</td>\n",
       "      <td>0.0</td>\n",
       "      <td>0.0</td>\n",
       "      <td>0.0</td>\n",
       "      <td>0.0</td>\n",
       "      <td>0.0</td>\n",
       "      <td>0.0</td>\n",
       "      <td>0.0</td>\n",
       "      <td>TBot</td>\n",
       "    </tr>\n",
       "    <tr>\n",
       "      <th>2</th>\n",
       "      <td>1086</td>\n",
       "      <td>80</td>\n",
       "      <td>6</td>\n",
       "      <td>1545875</td>\n",
       "      <td>140.373575</td>\n",
       "      <td>3.881297</td>\n",
       "      <td>309175.0</td>\n",
       "      <td>622399.136503</td>\n",
       "      <td>1418365.0</td>\n",
       "      <td>24.0</td>\n",
       "      <td>...</td>\n",
       "      <td>2188.0</td>\n",
       "      <td>0.0</td>\n",
       "      <td>0.0</td>\n",
       "      <td>0.0</td>\n",
       "      <td>0.0</td>\n",
       "      <td>0.0</td>\n",
       "      <td>0.0</td>\n",
       "      <td>0.0</td>\n",
       "      <td>0.0</td>\n",
       "      <td>TBot</td>\n",
       "    </tr>\n",
       "    <tr>\n",
       "      <th>3</th>\n",
       "      <td>1086</td>\n",
       "      <td>80</td>\n",
       "      <td>6</td>\n",
       "      <td>132</td>\n",
       "      <td>0.000000</td>\n",
       "      <td>15151.515152</td>\n",
       "      <td>132.0</td>\n",
       "      <td>0.000000</td>\n",
       "      <td>132.0</td>\n",
       "      <td>132.0</td>\n",
       "      <td>...</td>\n",
       "      <td>0.0</td>\n",
       "      <td>0.0</td>\n",
       "      <td>0.0</td>\n",
       "      <td>0.0</td>\n",
       "      <td>0.0</td>\n",
       "      <td>0.0</td>\n",
       "      <td>0.0</td>\n",
       "      <td>0.0</td>\n",
       "      <td>0.0</td>\n",
       "      <td>TBot</td>\n",
       "    </tr>\n",
       "    <tr>\n",
       "      <th>4</th>\n",
       "      <td>2066</td>\n",
       "      <td>80</td>\n",
       "      <td>6</td>\n",
       "      <td>28808</td>\n",
       "      <td>11420.438767</td>\n",
       "      <td>208.275479</td>\n",
       "      <td>5761.6</td>\n",
       "      <td>7536.133312</td>\n",
       "      <td>14028.0</td>\n",
       "      <td>26.0</td>\n",
       "      <td>...</td>\n",
       "      <td>781.0</td>\n",
       "      <td>0.0</td>\n",
       "      <td>0.0</td>\n",
       "      <td>0.0</td>\n",
       "      <td>0.0</td>\n",
       "      <td>0.0</td>\n",
       "      <td>0.0</td>\n",
       "      <td>0.0</td>\n",
       "      <td>0.0</td>\n",
       "      <td>TBot</td>\n",
       "    </tr>\n",
       "  </tbody>\n",
       "</table>\n",
       "<p>5 rows × 27 columns</p>\n",
       "</div>"
      ],
      "text/plain": [
       "   Source Port  Destination Port  Protocol  Flow Duration  Flow Bytes/s  \\\n",
       "0         1079                80         6          48383   6799.909059   \n",
       "1         1079                80         6            216      0.000000   \n",
       "2         1086                80         6        1545875    140.373575   \n",
       "3         1086                80         6            132      0.000000   \n",
       "4         2066                80         6          28808  11420.438767   \n",
       "\n",
       "   Flow Packets/s  Flow IAT Mean   Flow IAT Std  Flow IAT Max  Flow IAT Min  \\\n",
       "0      124.010500         9676.6   12938.362137       28388.0          30.0   \n",
       "1     9259.259259          216.0       0.000000         216.0         216.0   \n",
       "2        3.881297       309175.0  622399.136503     1418365.0          24.0   \n",
       "3    15151.515152          132.0       0.000000         132.0         132.0   \n",
       "4      208.275479         5761.6    7536.133312       14028.0          26.0   \n",
       "\n",
       "       ...       Bwd IAT Min  Active Mean  Active Std  Active Max  Active Min  \\\n",
       "0      ...            1853.0          0.0         0.0         0.0         0.0   \n",
       "1      ...               0.0          0.0         0.0         0.0         0.0   \n",
       "2      ...            2188.0          0.0         0.0         0.0         0.0   \n",
       "3      ...               0.0          0.0         0.0         0.0         0.0   \n",
       "4      ...             781.0          0.0         0.0         0.0         0.0   \n",
       "\n",
       "   Idle Mean  Idle Std  Idle Max  Idle Min  BotNet_Label  \n",
       "0        0.0       0.0       0.0       0.0          TBot  \n",
       "1        0.0       0.0       0.0       0.0          TBot  \n",
       "2        0.0       0.0       0.0       0.0          TBot  \n",
       "3        0.0       0.0       0.0       0.0          TBot  \n",
       "4        0.0       0.0       0.0       0.0          TBot  \n",
       "\n",
       "[5 rows x 27 columns]"
      ]
     },
     "execution_count": 4,
     "metadata": {},
     "output_type": "execute_result"
    }
   ],
   "source": [
    "data.head()"
   ]
  },
  {
   "cell_type": "code",
   "execution_count": 5,
   "metadata": {},
   "outputs": [
    {
     "data": {
      "text/plain": [
       "(3061, 27)"
      ]
     },
     "execution_count": 5,
     "metadata": {},
     "output_type": "execute_result"
    }
   ],
   "source": [
    "data.shape"
   ]
  },
  {
   "cell_type": "code",
   "execution_count": 6,
   "metadata": {},
   "outputs": [],
   "source": [
    "data = pd.get_dummies(data, columns=['Source Port', 'Destination Port','Protocol'],prefix=['sp', 'dp','proto'])"
   ]
  },
  {
   "cell_type": "code",
   "execution_count": 7,
   "metadata": {
    "collapsed": true
   },
   "outputs": [],
   "source": [
    "X = data.drop('BotNet_Label', 1)\n",
    "\n",
    "X_std = StandardScaler().fit_transform(X)\n",
    "\n"
   ]
  },
  {
   "cell_type": "code",
   "execution_count": 8,
   "metadata": {
    "collapsed": true
   },
   "outputs": [],
   "source": [
    "labels = data['BotNet_Label']\n",
    "names = labels.unique()"
   ]
  },
  {
   "cell_type": "code",
   "execution_count": 9,
   "metadata": {
    "collapsed": true
   },
   "outputs": [],
   "source": [
    "target = pd.get_dummies(pd.DataFrame(data['BotNet_Label']),prefix='Bot')\n",
    "#names = target.unique()"
   ]
  },
  {
   "cell_type": "code",
   "execution_count": 10,
   "metadata": {},
   "outputs": [
    {
     "data": {
      "text/html": [
       "<div>\n",
       "<style scoped>\n",
       "    .dataframe tbody tr th:only-of-type {\n",
       "        vertical-align: middle;\n",
       "    }\n",
       "\n",
       "    .dataframe tbody tr th {\n",
       "        vertical-align: top;\n",
       "    }\n",
       "\n",
       "    .dataframe thead th {\n",
       "        text-align: right;\n",
       "    }\n",
       "</style>\n",
       "<table border=\"1\" class=\"dataframe\">\n",
       "  <thead>\n",
       "    <tr style=\"text-align: right;\">\n",
       "      <th></th>\n",
       "      <th>Bot_TBot</th>\n",
       "      <th>Bot_Zero access</th>\n",
       "      <th>Bot_Zeus</th>\n",
       "    </tr>\n",
       "  </thead>\n",
       "  <tbody>\n",
       "    <tr>\n",
       "      <th>0</th>\n",
       "      <td>1</td>\n",
       "      <td>0</td>\n",
       "      <td>0</td>\n",
       "    </tr>\n",
       "    <tr>\n",
       "      <th>1</th>\n",
       "      <td>1</td>\n",
       "      <td>0</td>\n",
       "      <td>0</td>\n",
       "    </tr>\n",
       "    <tr>\n",
       "      <th>2</th>\n",
       "      <td>1</td>\n",
       "      <td>0</td>\n",
       "      <td>0</td>\n",
       "    </tr>\n",
       "    <tr>\n",
       "      <th>3</th>\n",
       "      <td>1</td>\n",
       "      <td>0</td>\n",
       "      <td>0</td>\n",
       "    </tr>\n",
       "    <tr>\n",
       "      <th>4</th>\n",
       "      <td>1</td>\n",
       "      <td>0</td>\n",
       "      <td>0</td>\n",
       "    </tr>\n",
       "  </tbody>\n",
       "</table>\n",
       "</div>"
      ],
      "text/plain": [
       "   Bot_TBot  Bot_Zero access  Bot_Zeus\n",
       "0         1                0         0\n",
       "1         1                0         0\n",
       "2         1                0         0\n",
       "3         1                0         0\n",
       "4         1                0         0"
      ]
     },
     "execution_count": 10,
     "metadata": {},
     "output_type": "execute_result"
    }
   ],
   "source": [
    "target.head()"
   ]
  },
  {
   "cell_type": "code",
   "execution_count": 11,
   "metadata": {},
   "outputs": [
    {
     "data": {
      "text/plain": [
       "PLSRegression(copy=True, max_iter=500, n_components=2, scale=True, tol=1e-06)"
      ]
     },
     "execution_count": 11,
     "metadata": {},
     "output_type": "execute_result"
    }
   ],
   "source": [
    "from sklearn.cross_decomposition import PLSRegression\n",
    "pls2 = PLSRegression(n_components=2)\n",
    "pls2.fit(X_std, target)\n",
    "\n",
    "#"
   ]
  },
  {
   "cell_type": "code",
   "execution_count": 12,
   "metadata": {},
   "outputs": [],
   "source": [
    "X_, Y_ = pls2.transform(X_std, target)"
   ]
  },
  {
   "cell_type": "code",
   "execution_count": 13,
   "metadata": {},
   "outputs": [
    {
     "data": {
      "text/plain": [
       "array([[-0.89656593,  1.30424363],\n",
       "       [-0.93420808,  1.3018498 ],\n",
       "       [-0.90089821,  1.27379041],\n",
       "       ..., \n",
       "       [ 0.32946392,  3.7587399 ],\n",
       "       [-0.54296113,  3.05203891],\n",
       "       [-0.61853804,  1.86909097]])"
      ]
     },
     "execution_count": 13,
     "metadata": {},
     "output_type": "execute_result"
    }
   ],
   "source": [
    "X_"
   ]
  },
  {
   "cell_type": "code",
   "execution_count": 14,
   "metadata": {
    "collapsed": true
   },
   "outputs": [],
   "source": [
    "# the predicted class is that with the highest predicted membership.\n",
    "Y_pred = pls2.predict(X_std)"
   ]
  },
  {
   "cell_type": "code",
   "execution_count": 15,
   "metadata": {},
   "outputs": [
    {
     "data": {
      "text/plain": [
       "array([[ 0.29859728,  0.38837896,  0.31302376],\n",
       "       [ 0.30535343,  0.38122579,  0.31342078],\n",
       "       [ 0.30255112,  0.38832088,  0.309128  ],\n",
       "       ..., \n",
       "       [-0.17158956,  0.56110274,  0.61048683],\n",
       "       [ 0.05353868,  0.41182764,  0.53463368],\n",
       "       [ 0.19110541,  0.42733877,  0.38155581]])"
      ]
     },
     "execution_count": 15,
     "metadata": {},
     "output_type": "execute_result"
    }
   ],
   "source": [
    "Y_pred"
   ]
  },
  {
   "cell_type": "code",
   "execution_count": 16,
   "metadata": {
    "collapsed": true
   },
   "outputs": [],
   "source": [
    "#data = data.drop(['Flow Bytes/s','Flow Packets/s','FlowBytesPerSec','FlowPacketsPerSec'], 1)"
   ]
  },
  {
   "cell_type": "code",
   "execution_count": 17,
   "metadata": {},
   "outputs": [],
   "source": [
    "#data.dtypes"
   ]
  },
  {
   "cell_type": "code",
   "execution_count": null,
   "metadata": {
    "collapsed": true
   },
   "outputs": [],
   "source": []
  },
  {
   "cell_type": "code",
   "execution_count": 18,
   "metadata": {
    "collapsed": true
   },
   "outputs": [],
   "source": [
    "#any(isinstance(x,str) for x in data['Flow Bytes/s'].values)\n",
    "#ss = [s for s in data['Flow Bytes/s'].values if  (isinstance(s,str))]"
   ]
  },
  {
   "cell_type": "code",
   "execution_count": 19,
   "metadata": {
    "collapsed": true
   },
   "outputs": [],
   "source": [
    "#data['FlowBytesPerSec'] = [float(x) for x in data['Flow Bytes/s'].values if  (isinstance(x,str)) else x]"
   ]
  },
  {
   "cell_type": "code",
   "execution_count": 20,
   "metadata": {
    "collapsed": true
   },
   "outputs": [],
   "source": [
    "#data.fillna(lambda x: median(x), inplace=True)"
   ]
  },
  {
   "cell_type": "code",
   "execution_count": 21,
   "metadata": {
    "collapsed": true
   },
   "outputs": [],
   "source": [
    "#f = lambda x: x.max() - x.min()"
   ]
  },
  {
   "cell_type": "code",
   "execution_count": 22,
   "metadata": {
    "collapsed": true
   },
   "outputs": [],
   "source": [
    "\n",
    "#X.apply(f)"
   ]
  },
  {
   "cell_type": "code",
   "execution_count": 23,
   "metadata": {
    "collapsed": true
   },
   "outputs": [],
   "source": [
    "#X['Flow Bytes/s'].dtype "
   ]
  },
  {
   "cell_type": "code",
   "execution_count": 24,
   "metadata": {},
   "outputs": [],
   "source": [
    "#names"
   ]
  },
  {
   "cell_type": "code",
   "execution_count": 25,
   "metadata": {
    "collapsed": true
   },
   "outputs": [],
   "source": [
    "#np.log(X['Idle Max'])"
   ]
  },
  {
   "cell_type": "code",
   "execution_count": 26,
   "metadata": {
    "collapsed": true
   },
   "outputs": [],
   "source": [
    "#X.isnull().any()"
   ]
  },
  {
   "cell_type": "code",
   "execution_count": 27,
   "metadata": {
    "collapsed": true
   },
   "outputs": [],
   "source": [
    "import numpy as np\n",
    "#'Normal', 'Neris', 'TBot', 'RBot', 'Menti\n",
    "#Osx_trojan = np.where(target == 'Osx_trojan')\n",
    "#Smoke_bot = np.where(target == 'Smoke bot')\n",
    "#Sogou = np.where(target == 'Sogou')\n",
    "#RBot = np.where(target == 'RBot')\n",
    "\n",
    "\n",
    "TBot = np.where(labels == 'TBot')\n",
    "Zero_access = np.where(labels == 'Zero access')\n",
    "Zeus = np.where(labels == 'Zeus')\n"
   ]
  },
  {
   "cell_type": "code",
   "execution_count": null,
   "metadata": {},
   "outputs": [],
   "source": []
  },
  {
   "cell_type": "code",
   "execution_count": 28,
   "metadata": {},
   "outputs": [
    {
     "data": {
      "image/png": "[encoded data removed]",
      "text/plain": [
       "<matplotlib.figure.Figure at 0x118ac39e8>"
      ]
     },
     "metadata": {},
     "output_type": "display_data"
    }
   ],
   "source": [
    "\n",
    "fig = plt.figure(figsize=(16, 12))\n",
    "ax = fig.add_subplot(111)\n",
    "\n",
    "for indices,lab, col in zip((TBot,Zero_access,Zeus),names,('r','g','b')):\n",
    "    ax.scatter(X_[indices, 0], X_[indices, 1],label=lab,c=col,alpha=0.8,s=80)\n",
    "\n",
    "# To Calculate critical value for Hotelling's T2\n",
    "#ns, _ = Y_pca.shape\n",
    "#components = [0,1]\n",
    "#Fval = f.ppf(0.95, 2, ns-2) \n",
    "#a = np.sqrt(np.var(Y_pca[:, 0])*Fval*2*((ns-1)/(ns-2)))\n",
    "#b = np.sqrt(np.var(Y_pca[:, 1])*Fval*2*((ns-1)/(ns-2)))\n",
    "#ellipse = Ellipse(xy=(0, 0), width=a*2, height=b*2, edgecolor=col, fc='None', lw=2)\n",
    "#ax.add_patch(ellipse)\n",
    "\n",
    "ax.set_xlabel('Component 1')\n",
    "ax.set_ylabel('Component 2')\n",
    "ax.legend(loc='upper left',prop={'size':16}) #plot.legend(loc=2,prop={'size':6})\n",
    "\n",
    "plt.show()"
   ]
  }
 ],
 "metadata": {
  "kernelspec": {
   "display_name": "Python 3",
   "language": "python",
   "name": "python3"
  },
  "language_info": {
   "codemirror_mode": {
    "name": "ipython",
    "version": 3
   },
   "file_extension": ".py",
   "mimetype": "text/x-python",
   "name": "python",
   "nbconvert_exporter": "python",
   "pygments_lexer": "ipython3",
   "version": "3.6.1"
  }
 },
 "nbformat": 4,
 "nbformat_minor": 2
}
