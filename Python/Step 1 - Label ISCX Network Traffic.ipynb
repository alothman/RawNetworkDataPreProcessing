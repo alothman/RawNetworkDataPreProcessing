{
 "cells": [
  {
   "cell_type": "markdown",
   "metadata": {},
   "source": [
    "# Labelling CSV Data resulting from FlowMeter (PCAP -> CSV)\n",
    "Here you will find Python code that shows you how you can assign labels to the ISCX data:\n",
    "http://www.unb.ca/cic/datasets/botnet.html\n",
    "\n",
    "\n",
    "The labelling is done according to the guidelines provided in the provided link.\n",
    "\n",
    "## Correlation between variables\n",
    "The code also demonstrates how you can check the data for highly correlated variables"
   ]
  },
  {
   "cell_type": "code",
   "execution_count": null,
   "metadata": {
    "collapsed": true
   },
   "outputs": [],
   "source": [
    "import pandas as pd"
   ]
  },
  {
   "cell_type": "code",
   "execution_count": null,
   "metadata": {},
   "outputs": [],
   "source": [
    "#load the data\n",
    "data = pd.read_csv('ISCX_ISCX_Botnet-Training.pcap.csv')"
   ]
  },
  {
   "cell_type": "code",
   "execution_count": null,
   "metadata": {},
   "outputs": [],
   "source": [
    "#Here you can look at the first few lines of the data\n",
    "data.head()"
   ]
  },
  {
   "cell_type": "code",
   "execution_count": null,
   "metadata": {
    "collapsed": true
   },
   "outputs": [],
   "source": [
    "# load ip addresses and the labels (this is prepared manually following the instructions from ISCX team )\n",
    "ip1 = pd.read_csv('bots1.csv')\n",
    "ip2 = pd.read_csv('bots2.csv')"
   ]
  },
  {
   "cell_type": "code",
   "execution_count": null,
   "metadata": {},
   "outputs": [],
   "source": [
    "ip1.head()"
   ]
  },
  {
   "cell_type": "code",
   "execution_count": null,
   "metadata": {},
   "outputs": [],
   "source": [
    "ip2.head()"
   ]
  },
  {
   "cell_type": "code",
   "execution_count": null,
   "metadata": {
    "collapsed": true
   },
   "outputs": [],
   "source": [
    "#this function goes through the data one row at a time (Iteration row), checks the [source IP] and checkes if it exists in ip1\n",
    "#if so, then this row is given the Botnet label\n",
    "def find_class1(row):\n",
    "    sourceIP = str(row['Source IP'])\n",
    "    #here iterate through the rows of ip1\n",
    "    for index, ip_row in ip1.iterrows():\n",
    "        if sourceIP == ip_row['IP']:\n",
    "            s = ip_row['Bot']\n",
    "            return s\n",
    "    \n",
    "    return 'Other'"
   ]
  },
  {
   "cell_type": "code",
   "execution_count": null,
   "metadata": {
    "collapsed": true
   },
   "outputs": [],
   "source": [
    "# this function goes through the data one row at a time, checks the [source IPs] and [dest IPs] and checkes if they both\n",
    "# exist in ip2, if so, then this row is given the Botnet label\n",
    "def find_class2(row):\n",
    "    sourceIP = str(row['Source IP'])\n",
    "    destIP = str(row[' Destination IP'])\n",
    "    #here iterate through the rows of  ip2\n",
    "    for index, ip_row in ip2.iterrows():\n",
    "        #print('\\tcompare to: ' + ip_row['SrcIP']+' -- '+ip_row['DestIP'])\n",
    "        if sourceIP == ip_row['SrcIP'] and destIP == ip_row['DestIP']:\n",
    "            s = ip_row['Bot']\n",
    "            return s\n",
    "    \n",
    "    return 'Other'        "
   ]
  },
  {
   "cell_type": "markdown",
   "metadata": {},
   "source": [
    "### Now we prepare two lists to hold possible labels using the previous two functions"
   ]
  },
  {
   "cell_type": "code",
   "execution_count": null,
   "metadata": {
    "collapsed": true
   },
   "outputs": [],
   "source": [
    "labels1 = data.apply(find_class1, axis=1)"
   ]
  },
  {
   "cell_type": "code",
   "execution_count": null,
   "metadata": {
    "collapsed": true
   },
   "outputs": [],
   "source": [
    "labels2 = data.apply(find_class2, axis=1)"
   ]
  },
  {
   "cell_type": "code",
   "execution_count": null,
   "metadata": {
    "collapsed": true
   },
   "outputs": [],
   "source": [
    "ls1 = list(labels1.values)"
   ]
  },
  {
   "cell_type": "code",
   "execution_count": null,
   "metadata": {
    "collapsed": true
   },
   "outputs": [],
   "source": [
    "ls2 = list(labels2.values)"
   ]
  },
  {
   "cell_type": "code",
   "execution_count": null,
   "metadata": {
    "collapsed": true
   },
   "outputs": [],
   "source": []
  },
  {
   "cell_type": "code",
   "execution_count": null,
   "metadata": {
    "collapsed": true
   },
   "outputs": [],
   "source": [
    "label = list()"
   ]
  },
  {
   "cell_type": "code",
   "execution_count": null,
   "metadata": {
    "collapsed": true
   },
   "outputs": [],
   "source": [
    "# now if a label is \"Other\" in both lists, then it's Normal\n",
    "# if it's \"Other\" in one list only, then we assign the label from the other list\n",
    "for a, b in zip(ls1, ls2):\n",
    "    if a == 'Other' and b == 'Other':\n",
    "        label.append('Normal')\n",
    "    else:\n",
    "        if a == 'Other':\n",
    "            label.append(b)\n",
    "        else:\n",
    "            label.append(a)"
   ]
  },
  {
   "cell_type": "code",
   "execution_count": null,
   "metadata": {
    "collapsed": true
   },
   "outputs": [],
   "source": []
  },
  {
   "cell_type": "code",
   "execution_count": null,
   "metadata": {},
   "outputs": [],
   "source": [
    "#check unique labels\n",
    "set(label)"
   ]
  },
  {
   "cell_type": "markdown",
   "metadata": {},
   "source": [
    "## now add the BotNet_Label column to the dataset"
   ]
  },
  {
   "cell_type": "code",
   "execution_count": null,
   "metadata": {
    "collapsed": true
   },
   "outputs": [],
   "source": [
    "data['BotNet_Label'] = label"
   ]
  },
  {
   "cell_type": "code",
   "execution_count": null,
   "metadata": {},
   "outputs": [],
   "source": [
    "#display the columns to make sure BotNet_Label is there!\n",
    "data.columns"
   ]
  },
  {
   "cell_type": "code",
   "execution_count": null,
   "metadata": {},
   "outputs": [],
   "source": [
    "#Here you can see numofRows and numofColoums\n",
    "data.shape"
   ]
  },
  {
   "cell_type": "code",
   "execution_count": null,
   "metadata": {
    "collapsed": true
   },
   "outputs": [],
   "source": [
    "#remove leading spaces from column names\n",
    "data = data.rename(columns=lambda x: x.strip())"
   ]
  },
  {
   "cell_type": "markdown",
   "metadata": {},
   "source": [
    "## This section helps you check highly correlated features"
   ]
  },
  {
   "cell_type": "code",
   "execution_count": null,
   "metadata": {
    "collapsed": true
   },
   "outputs": [],
   "source": [
    "#remove unimportant columns\n",
    "data.drop(['Source IP','Destination IP','label'],inplace=True,axis=1)"
   ]
  },
  {
   "cell_type": "code",
   "execution_count": null,
   "metadata": {
    "collapsed": true
   },
   "outputs": [],
   "source": [
    "data.to_csv('ISCX_ISCX_Botnet-Training-LABELLED.pcap.csv',index=False)"
   ]
  },
  {
   "cell_type": "code",
   "execution_count": null,
   "metadata": {
    "collapsed": true
   },
   "outputs": [],
   "source": [
    "# This function is taken from: https://stackoverflow.com/a/31384328\n",
    "# here we plot a correlation heatmap to check highly correlated features\n",
    "%matplotlib inline\n",
    "def plot_corr(df,size=10):\n",
    "    import matplotlib.pyplot as plt\n",
    "    '''Function plots a graphical correlation matrix for each pair of columns in the dataframe.\n",
    "\n",
    "    Input:\n",
    "        df: pandas DataFrame\n",
    "        size: vertical and horizontal size of the plot'''\n",
    "\n",
    "    corr = df.corr()\n",
    "    fig, ax = plt.subplots(figsize=(size, size))\n",
    "    ax.matshow(corr)\n",
    "    plt.xticks(range(len(corr.columns)), corr.columns);\n",
    "    plt.yticks(range(len(corr.columns)), corr.columns);"
   ]
  },
  {
   "cell_type": "code",
   "execution_count": null,
   "metadata": {},
   "outputs": [],
   "source": [
    "#Here I can see the highly correclated features\n",
    "#notice: bright color means high correlation, dark color means low correlation\n",
    "plot_corr(data,size=30)"
   ]
  },
  {
   "cell_type": "code",
   "execution_count": null,
   "metadata": {},
   "outputs": [],
   "source": [
    "# or we can display the correlation matrix\n",
    "data.corr()"
   ]
  },
  {
   "cell_type": "code",
   "execution_count": null,
   "metadata": {
    "collapsed": true
   },
   "outputs": [],
   "source": []
  }
 ],
 "metadata": {
  "anaconda-cloud": {},
  "kernelspec": {
   "display_name": "Python 3",
   "language": "python",
   "name": "python3"
  },
  "language_info": {
   "codemirror_mode": {
    "name": "ipython",
    "version": 3
   },
   "file_extension": ".py",
   "mimetype": "text/x-python",
   "name": "python",
   "nbconvert_exporter": "python",
   "pygments_lexer": "ipython3",
   "version": "3.6.3"
  }
 },
 "nbformat": 4,
 "nbformat_minor": 1
}
