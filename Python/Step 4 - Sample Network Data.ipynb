{
 "cells": [
  {
   "cell_type": "markdown",
   "metadata": {},
   "source": [
    "# Sampling Network Data\n",
    "Here you will find code that shows you how to sample the Normal data to add instances to each Botnet dataset\n",
    "Remember the two important conditions:\n",
    "* The samples should be non-overlapping .. i.e. no Normal instance is selected more than once\n",
    "* The resulting dataset should have class balance .. i.e. the number of Normal instances should be more or less the same as the number of Botnet instances"
   ]
  },
  {
   "cell_type": "code",
   "execution_count": null,
   "metadata": {},
   "outputs": [],
   "source": [
    "#dictionary to keep track of Botnet name and how many instances its dataset has\n",
    "#initially the datasets have only Botnet samples and we want to add Normal samples\n",
    "#we randomly choose Normal samples from the normal.csv dataset \n",
    "vn = {\n",
    "'IRC': 333,\n",
    "'Neris': 111,\n",
    "'RBot': 169,\n",
    "'Virut': 9\n",
    "}\n",
    "#open the pandas library which is used for data loading, processing and saving\n",
    "import pandas as pd\n",
    "#load the normal dataset\n",
    "normal = pd.read_csv('ISCX_Testing_Normal.csv')\n",
    "print(\"Normal data loaded!\",flush=True)\n",
    "#we use this library to create a random sample of rows\n",
    "import random\n",
    "#loop through the dictionary, load each dataset and perform sampling\n",
    "for key, value in vn.items():\n",
    "    print(\"Doing \"+key,flush=True)\n",
    "    #here we create a random list of row IDs equalise the normal rows with botnet\n",
    "    ls = random.sample(list(normal.index), value)\n",
    "    #select the rows according to their row IDs\n",
    "    ndata = normal.iloc[ls]\n",
    "    #remove these rows from the normal dataset so we don't choose them again\n",
    "    normal.drop(normal.index[ls],inplace=True)\n",
    "    normal.reset_index(drop=True,inplace=True)\n",
    "    #load the Botnet dataset\n",
    "    bot = pd.read_csv('ISCX_Testing_'+key+'.csv')\n",
    "    #concatenate the Botnet and Normal datasets\n",
    "    df_new = pd.concat([bot, ndata])\n",
    "    # and save!\n",
    "    print('now save the dataset with Botnet and Normal data')\n",
    "    df_new.to_csv('ISCX_Testing_'+key+'_Sampled.csv',index=False)"
   ]
  },
  {
   "cell_type": "code",
   "execution_count": null,
   "metadata": {
    "collapsed": true
   },
   "outputs": [],
   "source": []
  }
 ],
 "metadata": {
  "kernelspec": {
   "display_name": "Python 3",
   "language": "python",
   "name": "python3"
  },
  "language_info": {
   "codemirror_mode": {
    "name": "ipython",
    "version": 3
   },
   "file_extension": ".py",
   "mimetype": "text/x-python",
   "name": "python",
   "nbconvert_exporter": "python",
   "pygments_lexer": "ipython3",
   "version": "3.6.3"
  }
 },
 "nbformat": 4,
 "nbformat_minor": 2
}
